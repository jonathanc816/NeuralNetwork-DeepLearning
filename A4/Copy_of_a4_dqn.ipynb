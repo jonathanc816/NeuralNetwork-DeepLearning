{
 "cells": [
  {
   "cell_type": "markdown",
   "metadata": {
    "id": "V3szwJAdaoQa"
   },
   "source": [
    "## Enable rendering OpenAI Gym environments from CoLab\n",
    "\n",
    "In this assignemnt, We will use [OpenAI Gym](https://gym.openai.com/) for rendering game envionment for our agent to play and learn. It is possible and important to visualize the game your agent is playing, even on Colab. This section imports the necessary package and functions needed to generate a video in Colab. The video processing steps credit to [here](https://colab.research.google.com/drive/1flu31ulJlgiRL1dnN2ir8wGh9p7Zij2t)."
   ]
  },
  {
   "cell_type": "code",
   "execution_count": null,
   "metadata": {
    "colab": {
     "base_uri": "https://localhost:8080/"
    },
    "id": "M9fFfA-gb8oC",
    "outputId": "b7227c82-455b-4ad9-f05d-ed0a5ccfb626"
   },
   "outputs": [
    {
     "name": "stdout",
     "output_type": "stream",
     "text": [
      "Requirement already satisfied: setuptools in /usr/local/lib/python3.7/dist-packages (62.0.0)\n"
     ]
    }
   ],
   "source": [
    "# You will need to run this block twice to make it effective\n",
    "!apt-get update > /dev/null 2>&1\n",
    "!apt-get install cmake > /dev/null 2>&1\n",
    "!pip install --upgrade setuptools 2>&1\n",
    "!pip install ez_setup > /dev/null 2>&1\n",
    "!pip install gym[atari] > /dev/null 2>&1\n",
    "!pip install box2d-py > /dev/null 2>&1\n",
    "!pip install gym[Box_2D] > /dev/null 2>&1"
   ]
  },
  {
   "cell_type": "code",
   "execution_count": null,
   "metadata": {
    "id": "NE1QQOVX27dp"
   },
   "outputs": [],
   "source": [
    "!pip install gym pyvirtualdisplay > /dev/null 2>&1\n",
    "!apt-get install -y xvfb python-opengl ffmpeg > /dev/null 2>&1"
   ]
  },
  {
   "cell_type": "markdown",
   "metadata": {
    "id": "QfTPg6uZckCm"
   },
   "source": [
    "Import openAI gym and define the functions used to show the video."
   ]
  },
  {
   "cell_type": "code",
   "execution_count": null,
   "metadata": {
    "id": "JLl9cs6ncAf0"
   },
   "outputs": [],
   "source": [
    "import gym\n",
    "from gym.wrappers import Monitor\n",
    "import glob\n",
    "import io\n",
    "import base64\n",
    "from IPython.display import HTML\n",
    "from pyvirtualdisplay import Display\n",
    "from IPython import display as ipythondisplay\n",
    "\n",
    "display = Display(visible=0, size=(1400, 900))\n",
    "display.start()\n",
    "\n",
    "\"\"\"\n",
    "Utility functions to enable video recording of gym environment \n",
    "and displaying it.\n",
    "To enable video, just do \"env = wrap_env(env)\"\"\n",
    "\"\"\"\n",
    "\n",
    "def show_video():\n",
    "  mp4list = glob.glob('video/*.mp4')\n",
    "  if len(mp4list) > 0:\n",
    "    mp4 = mp4list[0]\n",
    "    video = io.open(mp4, 'r+b').read()\n",
    "    encoded = base64.b64encode(video)\n",
    "    ipythondisplay.display(HTML(data='''<video alt=\"test\" autoplay \n",
    "                loop controls style=\"height: 400px;\">\n",
    "                <source src=\"data:video/mp4;base64,{0}\" type=\"video/mp4\" />\n",
    "             </video>'''.format(encoded.decode('ascii'))))\n",
    "  else: \n",
    "    print(\"Could not find video\")\n",
    "    \n",
    "\n",
    "def wrap_env(env):\n",
    "  env = Monitor(env, './video', force=True)\n",
    "  return env"
   ]
  },
  {
   "cell_type": "markdown",
   "metadata": {
    "id": "UHkrflTWakKd"
   },
   "source": [
    "Import other packages:\n",
    "\n",
    "We will use Pytorch for building and learning our DQN network."
   ]
  },
  {
   "cell_type": "code",
   "execution_count": null,
   "metadata": {
    "id": "9KvZYSl6RrzD"
   },
   "outputs": [],
   "source": [
    "import torch\n",
    "from torch import nn\n",
    "import copy\n",
    "from collections import deque\n",
    "import random\n",
    "from tqdm import tqdm\n",
    "import matplotlib.pyplot as plt\n",
    "\n",
    "random.seed(42)"
   ]
  },
  {
   "cell_type": "markdown",
   "metadata": {
    "id": "zrLGCk-3ditk"
   },
   "source": [
    "## Run the game with random agent."
   ]
  },
  {
   "cell_type": "code",
   "execution_count": null,
   "metadata": {
    "colab": {
     "base_uri": "https://localhost:8080/",
     "height": 456
    },
    "id": "ZMcGALcWeWfh",
    "outputId": "71f3021b-5bcf-44f1-fe07-eed155610b48"
   },
   "outputs": [
    {
     "name": "stderr",
     "output_type": "stream",
     "text": [
      "100%|██████████| 20/20 [00:07<00:00,  2.74it/s]"
     ]
    },
    {
     "name": "stdout",
     "output_type": "stream",
     "text": [
      "average reward per episode : 22.1\n"
     ]
    },
    {
     "name": "stderr",
     "output_type": "stream",
     "text": [
      "\n"
     ]
    },
    {
     "data": {
      "text/html": [
       "<video alt=\"test\" autoplay \n",
       "                loop controls style=\"height: 400px;\">\n",
       "                <source src=\"data:video/mp4;base64,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\" type=\"video/mp4\" />\n",
       "             </video>"
      ],
      "text/plain": [
       "<IPython.core.display.HTML object>"
      ]
     },
     "metadata": {},
     "output_type": "display_data"
    }
   ],
   "source": [
    "from torch import randint\n",
    "from time import sleep\n",
    "\n",
    "env = wrap_env(gym.make('CartPole-v1'))\n",
    "reward_arr = []\n",
    "episode_count = 20\n",
    "for i in tqdm(range(episode_count)):\n",
    "    obs, done, rew = env.reset(), False, 0\n",
    "    env.render()\n",
    "    while not done:\n",
    "        A = randint(0, env.action_space.n, (1,))\n",
    "        obs, reward, done, info = env.step(A.item())\n",
    "        rew += reward\n",
    "        sleep(0.01)\n",
    "    reward_arr.append(rew)\n",
    "print(\"average reward per episode :\", sum(reward_arr) / len(reward_arr))\n",
    "env.close()\n",
    "show_video()"
   ]
  },
  {
   "cell_type": "markdown",
   "metadata": {
    "id": "Ope0zHAjfXQh"
   },
   "source": [
    "The episode ends when the pole is more than 15 degrees from vertical, or the cart moves more than 2.4 units from the center. The video is short (< 1s) because the pole loses balance immediately. \n",
    "\n",
    "You can see that a random agent is having trouble balancing the CartPole, just like you. However, a difficult game for human may be very simple to a computer. Let's see how we can use DQN to train a agent. "
   ]
  },
  {
   "cell_type": "markdown",
   "metadata": {
    "id": "OjP_2jn3SFgv"
   },
   "source": [
    "## Experience Replay\n",
    "\n",
    "The technique of experience replay was first proposed in to resolve temporal correlation in the input data by mixing recent experiences as well past experiences, essentially forcing the input to become independent and identically distributed (i.i.d.). It has been shown that this greatly stabilizes\n",
    "and improves the DQN training procedure."
   ]
  },
  {
   "cell_type": "code",
   "execution_count": null,
   "metadata": {
    "id": "SoxW1Jlnk8mS"
   },
   "outputs": [],
   "source": [
    "class ExperienceReplay(object):\n",
    "      def __init__(self, length):\n",
    "        self.experience_replay = deque(maxlen=length)\n",
    "\n",
    "      def collect(self, experience):\n",
    "        self.experience_replay.append(experience)\n",
    "        return\n",
    "\n",
    "      def sample_from_experience(self, sample_size):\n",
    "        if len(self.experience_replay) < sample_size:\n",
    "            sample_size = len(self.experience_replay)\n",
    "        sample = random.sample(self.experience_replay, sample_size)\n",
    "        state = torch.tensor([exp[0] for exp in sample]).float()\n",
    "        action = torch.tensor([exp[1] for exp in sample]).float()\n",
    "        reward = torch.tensor([exp[2] for exp in sample]).float()\n",
    "        next_state = torch.tensor([exp[3] for exp in sample]).float()\n",
    "        return state, action, reward, next_state\n"
   ]
  },
  {
   "cell_type": "markdown",
   "metadata": {
    "id": "CgXwmV2im4Sx"
   },
   "source": [
    "## Build our DQN Network\n",
    "\n",
    "We will use a simple multi-layer neural network to learn the optimal actions. We will use Adam Optimizor and MSE loss for training. **Notice that the loss function and gamma is given to you in the class attribute.** "
   ]
  },
  {
   "cell_type": "code",
   "execution_count": null,
   "metadata": {
    "id": "Wmd1pfuRm7MQ"
   },
   "outputs": [],
   "source": [
    "class DQN_Network:\n",
    "\n",
    "    def __init__(self, layer_size_list, lr, seed=1423):\n",
    "        torch.manual_seed(seed)\n",
    "        self.policy_net = self.create_network(layer_size_list)\n",
    "        self.target_net = copy.deepcopy(self.policy_net)\n",
    "  \n",
    "        self.loss_fn = torch.nn.MSELoss() # the loss function\n",
    "        self.optimizer = torch.optim.Adam(self.policy_net.parameters(), lr=lr)\n",
    "\n",
    "        self.step = 0\n",
    "        self.gamma = torch.tensor(0.95).float()\n",
    "        return\n",
    "\n",
    "    def create_network(self, layer_size_list):\n",
    "        assert len(layer_size_list) > 1\n",
    "\n",
    "        layers = []\n",
    "        for i in range(len(layer_size_list) - 1):\n",
    "            linear = nn.Linear(layer_size_list[i], layer_size_list[i + 1])\n",
    "\n",
    "            if i < len(layer_size_list) - 2:\n",
    "              activation = nn.Tanh()\n",
    "            else:\n",
    "              activation = nn.Identity()\n",
    "\n",
    "            layers += (linear, activation)\n",
    "        return nn.Sequential(*layers)\n",
    "\n",
    "    def load_pretrained_model(self, model_path):\n",
    "        self.policy_net.load_state_dict(torch.load(model_path))\n",
    "\n",
    "    def save_trained_model(self, model_path=\"cartpole-dqn.pth\"):\n",
    "        torch.save(self.policy_net.state_dict(), model_path)\n"
   ]
  },
  {
   "cell_type": "markdown",
   "metadata": {
    "id": "xKVV16YctASm"
   },
   "source": [
    "## **[Your task]**: complete the function that chooses the next action\n",
    "\n",
    "Choose next action based on **$\\epsilon$-greedy**:\n",
    "\n",
    "\\begin{align}\\text{where} \\quad \\mathcal{a_{t+1}} = \\begin{cases}\n",
    "     \\text{argmax}_{a}Q(a, s)  & \\text{with probability }: 1 - \\epsilon, \\text{exploitation}\\\\\n",
    "     \\text{Uniform}\\{a_{1},...,a_{n}\\} & \\text{with probability}:   \\epsilon, \\text{exploration} \\\\\n",
    "   \\end{cases}\\end{align}"
   ]
  },
  {
   "cell_type": "code",
   "execution_count": null,
   "metadata": {
    "id": "iE0gVweYs8xW"
   },
   "outputs": [],
   "source": [
    "def get_action(model, state, action_space_len, epsilon):\n",
    "    # We do not require gradient at this point, because this function will be used either\n",
    "    # during experience collection or during inference\n",
    "\n",
    "    with torch.no_grad():\n",
    "        Qp = model.policy_net(torch.from_numpy(state).float())\n",
    "\n",
    "    # TODO: select and return action based on epsilon-greedy\n",
    "    if random.random() > epsilon:\n",
    "      max, index = torch.max(Qp, axis=0)\n",
    "      return index\n",
    "\n",
    "    else:\n",
    "      return torch.randint(0, action_space_len, (1,))\n",
    "\n",
    "\n",
    "\n"
   ]
  },
  {
   "cell_type": "markdown",
   "metadata": {
    "id": "iF9a5-IbazjQ"
   },
   "source": [
    "### **[Your task]**: complete the function that train the network for one step\n",
    "\n",
    "Here, you can find an ``train`` function that performs a\n",
    "single step of the optimization. \n",
    "\n",
    "For our training update rule, the loss you are trying to minimize is:\n",
    "\n",
    "\\begin{align}\\text{loss} = Q(s, a) - (r + \\gamma \\max_a Q(s', a))\\end{align}"
   ]
  },
  {
   "cell_type": "code",
   "execution_count": null,
   "metadata": {
    "id": "mtx4FAiab0Hp"
   },
   "outputs": [],
   "source": [
    "def train(model, batch_size):\n",
    "    state, action, reward, next_state = memory.sample_from_experience(sample_size=batch_size)\n",
    "\n",
    "    # TODO: predict expected return of current state using main network\n",
    "    Qp = model.policy_net(state)\n",
    "    exp_res, index = torch.max(Qp, axis=1)\n",
    "\n",
    "    # TODO: get target return using target network\n",
    "    Qp_next = model.target_net(next_state)\n",
    "    exp_res_next, index = torch.max(Qp_next, axis=1)\n",
    "    target_return = reward + model.gamma * exp_res_next\n",
    "\n",
    "    # TODO: compute the loss\n",
    "    loss = model.loss_fn(exp_res, target_return)\n",
    "    model.optimizer.zero_grad()\n",
    "    loss.backward(retain_graph=True)\n",
    "    model.optimizer.step()\n",
    "\n",
    "    model.step += 1\n",
    "    if model.step % 5 == 0:\n",
    "        model.target_net.load_state_dict(model.policy_net.state_dict())\n",
    "\n",
    "    return loss.item()\n",
    "\n"
   ]
  },
  {
   "cell_type": "markdown",
   "metadata": {
    "id": "uskoe87Uz-Jg"
   },
   "source": [
    "### **[Your task]**: Finish the training loop\n",
    "\n",
    "In this part, you can play around with ```exp_replay_size```, ```episode```, ```epsilon``` and the \"episodo decay\" logic to train your model. **If you have done correctly, you will observe that the training time for the latter episodes is longer than the early episodes. This is because your agent is getting better and better at playing the game and thus each episode takes longer**"
   ]
  },
  {
   "cell_type": "code",
   "execution_count": null,
   "metadata": {
    "colab": {
     "base_uri": "https://localhost:8080/"
    },
    "id": "3NfNnyD6SPpN",
    "outputId": "afc8c5ec-993e-41d4-9b59-471488edd359"
   },
   "outputs": [
    {
     "name": "stderr",
     "output_type": "stream",
     "text": [
      "100%|██████████| 10000/10000 [00:59<00:00, 168.42it/s]"
     ]
    },
    {
     "name": "stdout",
     "output_type": "stream",
     "text": [
      "Saving trained model\n"
     ]
    },
    {
     "name": "stderr",
     "output_type": "stream",
     "text": [
      "\n"
     ]
    }
   ],
   "source": [
    "# Create the model\n",
    "env = gym.make('CartPole-v0')\n",
    "input_dim = env.observation_space.shape[0]\n",
    "output_dim = env.action_space.n\n",
    "agent = DQN_Network(layer_size_list=[input_dim, 64, output_dim], lr=1e-3)\n",
    "\n",
    "# Main training loop\n",
    "losses_list, reward_list, episode_len_list, epsilon_list = [], [], [], []\n",
    "\n",
    "# TODO: try different values, it normally takes more than 6k episodes to train\n",
    "exp_replay_size = 333\n",
    "memory = ExperienceReplay(exp_replay_size)\n",
    "episodes = 10000\n",
    "epsilon = 1 # episilon start from 1 and decay gradually. \n",
    "\n",
    "# initiliaze experiance replay\n",
    "index = 0\n",
    "for i in range(exp_replay_size):\n",
    "    obs = env.reset()\n",
    "    done = False\n",
    "    while not done:\n",
    "        A = get_action(agent, obs, env.action_space.n, epsilon=1)\n",
    "        obs_next, reward, done, _ = env.step(A.item())\n",
    "        memory.collect([obs, A.item(), reward, obs_next])\n",
    "        obs = obs_next\n",
    "        index += 1\n",
    "        if index > exp_replay_size:\n",
    "            break\n",
    "\n",
    "index = 128\n",
    "for i in tqdm(range(episodes)):\n",
    "    obs, done, losses, ep_len, rew = env.reset(), False, 0, 0, 0\n",
    "    while not done:\n",
    "        ep_len += 1\n",
    "        A = get_action(agent, obs, env.action_space.n, epsilon)\n",
    "        obs_next, reward, done, _ = env.step(A.item())\n",
    "        memory.collect([obs, A.item(), reward, obs_next])\n",
    "\n",
    "        obs = obs_next\n",
    "        rew += reward\n",
    "        index += 1\n",
    "\n",
    "        if index > 128:\n",
    "            index = 0\n",
    "            for j in range(4):\n",
    "                loss = train(agent, batch_size=16)\n",
    "                losses += loss\n",
    "    \n",
    "    # TODO: add epsilon decay rule here! \n",
    "    epsilon = epsilon * 0.99\n",
    "\n",
    "    losses_list.append(losses / ep_len), reward_list.append(rew)\n",
    "    episode_len_list.append(ep_len), epsilon_list.append(epsilon)\n",
    "\n",
    "print(\"Saving trained model\")\n",
    "agent.save_trained_model(\"cartpole-dqn.pth\")"
   ]
  },
  {
   "cell_type": "markdown",
   "metadata": {
    "id": "CCow7jNXf5YT"
   },
   "source": [
    "## Last Step: evaluate your trained model! **Make sure to include your visualizations (plot+video) in the notebook for your submission!**\n",
    "\n",
    "First we can plot the reward vs. episode. **If you have done correctly, you should see the reward can stabilize at 200 in later episodes**\\"
   ]
  },
  {
   "cell_type": "code",
   "execution_count": null,
   "metadata": {
    "colab": {
     "base_uri": "https://localhost:8080/",
     "height": 295
    },
    "id": "-Hy_FP7yeXA4",
    "outputId": "0a9b5071-1421-45be-f3a6-2aa4a13b3dfc"
   },
   "outputs": [
    {
     "data": {
      "image/png": "[encoded data removed]",
      "text/plain": [
       "<Figure size 432x288 with 1 Axes>"
      ]
     },
     "metadata": {
      "needs_background": "light"
     },
     "output_type": "display_data"
    }
   ],
   "source": [
    "def plot_reward(r):\n",
    "    plt.figure(2)\n",
    "    plt.clf()\n",
    "    plt.title('Result')\n",
    "    plt.xlabel('Episode')\n",
    "    plt.ylabel('Reward')\n",
    "    plt.plot(r)\n",
    "\n",
    "plot_reward(reward_list)"
   ]
  },
  {
   "cell_type": "markdown",
   "metadata": {
    "id": "EixOpGakoyi4"
   },
   "source": [
    "Next let check out how well your agent plays the game. **If you have done correctly, you should see a relatively longer video (> 3~4s) with a self-balancing pole.**"
   ]
  },
  {
   "cell_type": "code",
   "execution_count": null,
   "metadata": {
    "colab": {
     "base_uri": "https://localhost:8080/",
     "height": 456
    },
    "id": "EMEivKldTGVG",
    "outputId": "5215380e-fa4c-49ee-f005-aa6c41410734"
   },
   "outputs": [
    {
     "name": "stderr",
     "output_type": "stream",
     "text": [
      "100%|██████████| 200/200 [00:23<00:00,  8.51it/s]"
     ]
    },
    {
     "name": "stdout",
     "output_type": "stream",
     "text": [
      "average reward per episode : 415.68\n"
     ]
    },
    {
     "name": "stderr",
     "output_type": "stream",
     "text": [
      "\n"
     ]
    },
    {
     "data": {
      "text/html": [
       "<video alt=\"test\" autoplay \n",
       "                loop controls style=\"height: 400px;\">\n",
       "                <source src=\"data:video/mp4;base64,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\" type=\"video/mp4\" />\n",
       "             </video>"
      ],
      "text/plain": [
       "<IPython.core.display.HTML object>"
      ]
     },
     "metadata": {},
     "output_type": "display_data"
    }
   ],
   "source": [
    "env = wrap_env(gym.make('CartPole-v1'))\n",
    "\n",
    "input_dim = env.observation_space.shape[0]\n",
    "output_dim = env.action_space.n\n",
    "model_validate = DQN_Network(layer_size_list=[input_dim, 64, output_dim], lr=1e-3)\n",
    "model_validate.load_pretrained_model(\"cartpole-dqn.pth\")\n",
    "\n",
    "reward_arr = []\n",
    "for i in tqdm(range(200)):\n",
    "    obs, done, rew = env.reset(), False, 0\n",
    "    env.render()\n",
    "    while not done:\n",
    "        A = get_action(model_validate, obs, env.action_space.n, epsilon=0)\n",
    "        obs, reward, done, info = env.step(A.item())\n",
    "        rew += reward\n",
    "        # sleep(0.01)\n",
    "\n",
    "    reward_arr.append(rew)\n",
    "print(\"average reward per episode :\", sum(reward_arr) / len(reward_arr))\n",
    "env.close()\n",
    "show_video()"
   ]
  },
  {
   "cell_type": "markdown",
   "metadata": {
    "id": "3ugNGR2TbCFC"
   },
   "source": [
    "From the final results, the average reward per episode is ~415, which is considered as a high reward. The reward vs. episodes plot show that the reward increases as the episodes increase. The reward stabilized at 200 in later episodes (afetr ~7000 episodes). Note that the goal is to keep the pole standing. The longer you keep the pole standing, the more score (reward) you will get. Hence, based on the results aboce, our network has succesfully carried out the expected results."
   ]
  }
 ],
 "metadata": {
  "accelerator": "GPU",
  "colab": {
   "collapsed_sections": [],
   "name": "Copy of a4_dqn.ipynb",
   "provenance": []
  },
  "kernelspec": {
   "display_name": "Python 3",
   "language": "python",
   "name": "python3"
  },
  "language_info": {
   "codemirror_mode": {
    "name": "ipython",
    "version": 3
   },
   "file_extension": ".py",
   "mimetype": "text/x-python",
   "name": "python",
   "nbconvert_exporter": "python",
   "pygments_lexer": "ipython3",
   "version": "3.8.8"
  }
 },
 "nbformat": 4,
 "nbformat_minor": 1
}
